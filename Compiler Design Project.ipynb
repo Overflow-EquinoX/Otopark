{
  "nbformat": 4,
  "nbformat_minor": 0,
  "metadata": {
    "colab": {
      "provenance": [],
      "authorship_tag": "ABX9TyMH5mUC+kUIsVE5tu7fD713",
      "include_colab_link": true
    },
    "kernelspec": {
      "name": "python3",
      "display_name": "Python 3"
    },
    "language_info": {
      "name": "python"
    }
  },
  "cells": [
    {
      "cell_type": "markdown",
      "metadata": {
        "id": "view-in-github",
        "colab_type": "text"
      },
      "source": [
        "<a href=\"https://colab.research.google.com/github/Overflow-EquinoX/Otopark/blob/main/Compiler%20Design%20Project.ipynb\" target=\"_parent\"><img src=\"https://colab.research.google.com/assets/colab-badge.svg\" alt=\"Open In Colab\"/></a>"
      ]
    },
    {
      "cell_type": "code",
      "execution_count": null,
      "metadata": {
        "id": "LP7gSjkR_5L2",
        "colab": {
          "base_uri": "https://localhost:8080/"
        },
        "outputId": "45762afa-8b66-41e5-8793-7feab188e466"
      },
      "outputs": [
        {
          "output_type": "stream",
          "name": "stdout",
          "text": [
            "Requirement already satisfied: graphviz in /usr/local/lib/python3.10/dist-packages (0.20.3)\n"
          ]
        }
      ],
      "source": [
        "!pip install graphviz\n"
      ]
    },
    {
      "cell_type": "code",
      "source": [
        "\n",
        "\n",
        "import graphviz  # Syntax Tree görselleştirme için\n",
        "from collections import deque  # Derivation adımları için\n",
        "\n"
      ],
      "metadata": {
        "id": "nXAwaHlQaEg2"
      },
      "execution_count": null,
      "outputs": []
    },
    {
      "cell_type": "code",
      "source": [
        "import re\n",
        "\n",
        "def tokenize(expression):\n",
        "    # Geçerli tokenları belirtiyoruz: sayılar, operatörler, parantezler ve fonksiyonlar\n",
        "    token_pattern = r'\\d+|[+\\-*/^()!]|sin|cos'\n",
        "    invalid_pattern = r'[^\\d+\\-*/^()!sin cos]'  # Geçersiz karakterler için\n",
        "\n",
        "    # Geçersiz karakter kontrolü\n",
        "    invalid_tokens = re.findall(invalid_pattern, expression)\n",
        "    if invalid_tokens:\n",
        "        raise ValueError(f\"Syntax Error: Invalid token '{invalid_tokens[0]}'\")\n",
        "\n",
        "    # Geçerli tokenları yakala\n",
        "    tokens = re.findall(token_pattern, expression)\n",
        "\n",
        "    # Sayıları \"NUMBER\" olarak işaretle\n",
        "    return [\"NUMBER\" if re.fullmatch(r'\\d+', token) else token for token in tokens]\n"
      ],
      "metadata": {
        "id": "TeklnFaTaGHE"
      },
      "execution_count": 1,
      "outputs": []
    },
    {
      "cell_type": "markdown",
      "source": [
        "\n",
        "\n",
        "# Lexical Analysis (Tokenizer işlevi)\n",
        "\n",
        "İfadeyi parçalar ve sayıları \"NUMBER\" olarak etiketler\n",
        "\n",
        "token_pattern:\n",
        "\n",
        "\\d+ → Sayılar için.\n",
        "\n",
        "[+\\-*/^()!] → Temel operatörler\n",
        "\n",
        " !.sin|cos → Trigonometric fonksiyonlar.\n",
        "\n",
        "\n",
        "Token Sınıflandırması:\n",
        "\n",
        "Sayılar → \"NUMBER\" olarak etiketlenir.\n",
        "Operatörler → Olduğu gibi eklenir (+, *, ^, !).\n",
        "Fonksiyonlar → sin ve cos gibi adlandırılır.\n",
        "\n",
        "Hatalı Token Kontrolü:\n",
        "\n",
        "\n",
        "Tanımsız bir sembol algılanırsa Syntax Error döndürülür.\n",
        "\n",
        "\n"
      ],
      "metadata": {
        "id": "XVXqyFX6atLB"
      }
    },
    {
      "cell_type": "code",
      "source": [
        "grammar = {\n",
        "    \"E\": [[\"T\", \"E'\"]],\n",
        "    \"E'\": [[\"+\", \"T\", \"E'\"], [\"-\", \"T\", \"E'\"], [\"ε\"]],\n",
        "    \"T\": [[\"F\", \"T'\"]],\n",
        "    \"T'\": [[\"*\", \"F\", \"T'\"], [\"/\", \"F\", \"T'\"], [\"ε\"]],\n",
        "    \"F\": [[\"(\", \"E\", \")\"], [\"NUMBER\"], [\"sin\", \"(\", \"E\", \")\"], [\"cos\", \"(\", \"E\", \")\"], [\"F\", \"!\"], [\"F\", \"^\", \"F\"]]\n",
        "}\n"
      ],
      "metadata": {
        "id": "xCqDXoEJF60f"
      },
      "execution_count": null,
      "outputs": []
    },
    {
      "cell_type": "markdown",
      "source": [
        "Dilbilgisi Tanımı (Grammar):\n",
        "\n",
        "Dilbilgisini yorumlayacak ve analiz edecek bir yapı\n"
      ],
      "metadata": {
        "id": "3dDndZBmK7na"
      }
    },
    {
      "cell_type": "code",
      "source": [
        "\n",
        "import re\n",
        "\n",
        "def tokenize(expression):\n",
        "    # Geçerli tokenları belirtiyoruz: sayılar, operatörler, parantezler ve fonksiyonlar\n",
        "    token_pattern = r'\\d+|[+\\-*/^()!]|sin|cos'\n",
        "    invalid_pattern = r'[^\\d+\\-*/^()!sin cos]'  # Geçersiz karakterler için\n",
        "\n",
        "    # Geçersiz karakter kontrolü\n",
        "    invalid_tokens = re.findall(invalid_pattern, expression)\n",
        "    if invalid_tokens:\n",
        "        raise ValueError(f\"Syntax Error: Invalid token '{invalid_tokens[0]}'\")\n",
        "\n",
        "    # Geçerli tokenları yakala\n",
        "    tokens = re.findall(token_pattern, expression)\n",
        "\n",
        "    # Sayıları \"NUMBER\" olarak işaretle\n",
        "    return [\"NUMBER\" if re.fullmatch(r'\\d+', token) else token for token in tokens]\n",
        "\n",
        "\n",
        "\n",
        "def shunting_yard(tokens):\n",
        "    precedence = {'+': 1, '-': 1, '*': 2, '/': 2, '^': 3, '!': 4}\n",
        "    associativity = {'+': 'L', '-': 'L', '*': 'L', '/': 'L', '^': 'R', '!': 'R'}\n",
        "    output = []\n",
        "    operators = []\n",
        "    last_was_operator = True  # Bir önceki tokenın operatör olup olmadığını izler\n",
        "\n",
        "    for token in tokens:\n",
        "        if token == \"NUMBER\":\n",
        "            output.append(token)\n",
        "            last_was_operator = False\n",
        "        elif token in precedence:  # Operatörler\n",
        "            if last_was_operator:  # Eksik operand kontrolü\n",
        "                raise ValueError(f\"Syntax Error: Missing operand for operator '{token}'\")\n",
        "            while (operators and operators[-1] in precedence and\n",
        "                   ((associativity[token] == 'L' and precedence[token] <= precedence[operators[-1]]) or\n",
        "                    (associativity[token] == 'R' and precedence[token] < precedence[operators[-1]]))):\n",
        "                output.append(operators.pop())\n",
        "            operators.append(token)\n",
        "            last_was_operator = True\n",
        "        elif token in [\"sin\", \"cos\"]:  # Fonksiyonlar\n",
        "            operators.append(token)\n",
        "            last_was_operator = True\n",
        "        elif token == \"(\":\n",
        "            operators.append(token)\n",
        "            last_was_operator = True\n",
        "        elif token == \")\":\n",
        "            while operators and operators[-1] != \"(\":\n",
        "                output.append(operators.pop())\n",
        "            if not operators:\n",
        "                raise ValueError(\"Syntax Error: Mismatched parentheses\")  # Parantez hatası\n",
        "            operators.pop()  # '(' parantezini kaldır\n",
        "            if operators and operators[-1] in [\"sin\", \"cos\"]:\n",
        "                output.append(operators.pop())\n",
        "            last_was_operator = False\n",
        "        elif token == \"!\":\n",
        "            if last_was_operator:\n",
        "                raise ValueError(\"Syntax Error: Missing operand for '!' operator\")\n",
        "            output.append(token)\n",
        "\n",
        "    # Parantezlerin dengeli olup olmadığını kontrol et\n",
        "    while operators:\n",
        "        if operators[-1] == \"(\" or operators[-1] == \")\":\n",
        "            raise ValueError(\"Syntax Error: Mismatched parentheses\")\n",
        "        output.append(operators.pop())\n",
        "\n",
        "    return output\n",
        "\n",
        "\n",
        "\n",
        "\n",
        "\n",
        "\n",
        "# Syntax Tree Düğüm Sınıfı\n",
        "# AST oluşturmak için mevcut yapıya ekleme\n",
        "class Node:\n",
        "    def __init__(self, value, left=None, right=None):\n",
        "        self.value = value\n",
        "        self.left = left\n",
        "        self.right = right\n",
        "\n",
        "def build_syntax_tree(postfix):\n",
        "    stack = []\n",
        "    for token in postfix:\n",
        "        if token == \"NUMBER\":\n",
        "            stack.append(Node(\"NUMBER\"))\n",
        "        elif token in [\"+\", \"-\", \"*\", \"/\", \"^\"]:\n",
        "            right = stack.pop()\n",
        "            left = stack.pop()\n",
        "            stack.append(Node(token, left, right))\n",
        "        elif token in [\"sin\", \"cos\", \"!\"]:  # Unary operatörler\n",
        "            operand = stack.pop()\n",
        "            stack.append(Node(token, operand))\n",
        "    return stack[0]\n",
        "\n",
        "def build_ast(postfix):\n",
        "    # AST'de gereksiz düğümleri kaldırmak için aynı yapı kullanılır\n",
        "    stack = []\n",
        "    for token in postfix:\n",
        "        if token == \"NUMBER\":\n",
        "            stack.append(Node(\"NUMBER\"))\n",
        "        elif token in [\"+\", \"-\", \"*\", \"/\", \"^\"]:\n",
        "            right = stack.pop()\n",
        "            left = stack.pop()\n",
        "            stack.append(Node(token, left, right))\n",
        "        elif token in [\"sin\", \"cos\", \"!\"]:  # Unary operatörler\n",
        "            operand = stack.pop()\n",
        "            stack.append(Node(token, operand))\n",
        "    return stack[0]\n",
        "\n",
        "def print_syntax_tree(node, level=0):\n",
        "    if node is not None:\n",
        "        print_syntax_tree(node.right, level + 1)\n",
        "        print(\" \" * 4 * level + \"->\", node.value)\n",
        "        print_syntax_tree(node.left, level + 1)\n",
        "\n",
        "# Test Kodu\n",
        "expression = \"(3 + 5) * 2\"\n",
        "tokens = tokenize(expression)\n",
        "print(\"Tokens:\", tokens)\n",
        "\n",
        "try:\n",
        "    postfix = shunting_yard(tokens)\n",
        "    print(\"Postfix Notation:\", postfix)\n",
        "\n",
        "    # Syntax Tree oluşturma\n",
        "    syntax_tree = build_syntax_tree(postfix)\n",
        "    print(\"\\nSyntax Tree:\")\n",
        "    print_syntax_tree(syntax_tree)\n",
        "\n",
        "    # AST oluşturma\n",
        "    ast = build_ast(postfix)\n",
        "    print(\"\\nAbstract Syntax Tree (AST):\")\n",
        "    print_syntax_tree(ast)\n",
        "\n",
        "except ValueError as e:\n",
        "    print(\"Syntax Error:\", e)\n",
        "\n",
        "\n",
        "\n",
        "\n"
      ],
      "metadata": {
        "id": "M59KcargK-1S",
        "colab": {
          "base_uri": "https://localhost:8080/"
        },
        "outputId": "f9a729f5-6187-4f57-adda-962a9a865610"
      },
      "execution_count": 21,
      "outputs": [
        {
          "output_type": "stream",
          "name": "stdout",
          "text": [
            "Tokens: ['(', 'NUMBER', '+', 'NUMBER', ')', '*', 'NUMBER']\n",
            "Postfix Notation: ['NUMBER', 'NUMBER', '+', 'NUMBER', '*']\n",
            "\n",
            "Syntax Tree:\n",
            "    -> NUMBER\n",
            "-> *\n",
            "        -> NUMBER\n",
            "    -> +\n",
            "        -> NUMBER\n",
            "\n",
            "Abstract Syntax Tree (AST):\n",
            "    -> NUMBER\n",
            "-> *\n",
            "        -> NUMBER\n",
            "    -> +\n",
            "        -> NUMBER\n"
          ]
        }
      ]
    },
    {
      "cell_type": "markdown",
      "source": [
        "#Neden Shunting Yard Algoritması Kullanıyoruz?\n",
        "-Operatör Önceliği ve Parantez Yönetimi:\n",
        "\n",
        "Shunting Yard, operatörlerin öncelik sırasını otomatik olarak işler ve parantez hatalarını kolayca yakalayabilir.\n",
        "\n",
        "-Basitlik:\n",
        "\n",
        "Karmaşık grammar'ları ele almak zorunda kalmadan doğrudan matematiksel ifadeler üzerinde çalışır.\n",
        "\n",
        "-LL(1) veya LR parsing'e göre uygulaması daha kolaydır.\n",
        "\n",
        "\n",
        "-Hataları Yakalama Yeteneği:\n",
        "\n",
        "Eksik parantez, yanlış operatör sırası gibi syntax hatalarını işlem sırasında tespit edebilir.\n",
        "\n",
        "\n",
        "-AST veya Syntax Tree Üretimi:\n",
        "\n",
        "Shunting Yard çıktısı olan postfix (RPN) notasyonu, Syntax Tree veya AST oluşturmak için ideal bir başlangıç noktasıdır."
      ],
      "metadata": {
        "id": "CHlk7OH9Hs6a"
      }
    },
    {
      "cell_type": "code",
      "source": [
        "# Test Kodu\n",
        "expression = \"(3 + 5) * 2\"\n",
        "tokens = tokenize(expression)\n",
        "print(\"Tokens:\", tokens)\n",
        "\n",
        "try:\n",
        "    postfix = shunting_yard(tokens)\n",
        "    print(\"Postfix Notation:\", postfix)\n",
        "\n",
        "    # Syntax Tree oluşturma\n",
        "    syntax_tree = build_syntax_tree(postfix)\n",
        "    print(\"\\nSyntax Tree:\")\n",
        "    print_syntax_tree(syntax_tree)\n",
        "\n",
        "    # AST oluşturma\n",
        "    ast = build_ast(postfix)\n",
        "    print(\"\\nAbstract Syntax Tree (AST):\")\n",
        "    print_syntax_tree(ast)\n",
        "except ValueError as e:\n",
        "    print(e)"
      ],
      "metadata": {
        "colab": {
          "base_uri": "https://localhost:8080/"
        },
        "id": "1y1HIa6ZQxzk",
        "outputId": "5088a7c8-fb22-4dd0-b24a-d6a3452e11b9"
      },
      "execution_count": 23,
      "outputs": [
        {
          "output_type": "stream",
          "name": "stdout",
          "text": [
            "Tokens: ['(', 'NUMBER', '+', 'NUMBER', ')', '*', 'NUMBER']\n",
            "Postfix Notation: ['NUMBER', 'NUMBER', '+', 'NUMBER', '*']\n",
            "\n",
            "Syntax Tree:\n",
            "    -> NUMBER\n",
            "-> *\n",
            "        -> NUMBER\n",
            "    -> +\n",
            "        -> NUMBER\n",
            "\n",
            "Abstract Syntax Tree (AST):\n",
            "    -> NUMBER\n",
            "-> *\n",
            "        -> NUMBER\n",
            "    -> +\n",
            "        -> NUMBER\n"
          ]
        }
      ]
    },
    {
      "cell_type": "code",
      "source": [
        "# Test Kodu Hata: 1\n",
        "expression = \"(3 + 5 * 2\"\n",
        "tokens = tokenize(expression)\n",
        "print(\"Tokens:\", tokens)\n",
        "\n",
        "try:\n",
        "    postfix = shunting_yard(tokens)\n",
        "    print(\"Postfix Notation:\", postfix)\n",
        "\n",
        "    # Syntax Tree oluşturma\n",
        "    syntax_tree = build_syntax_tree(postfix)\n",
        "    print(\"\\nSyntax Tree:\")\n",
        "    print_syntax_tree(syntax_tree)\n",
        "\n",
        "    # AST oluşturma\n",
        "    ast = build_ast(postfix)\n",
        "    print(\"\\nAbstract Syntax Tree (AST):\")\n",
        "    print_syntax_tree(ast)\n",
        "except ValueError as e:\n",
        "    print(e)"
      ],
      "metadata": {
        "colab": {
          "base_uri": "https://localhost:8080/"
        },
        "id": "Obr80HZ0JBqa",
        "outputId": "3b073b46-fc9f-4978-cb14-b6451af6f66f"
      },
      "execution_count": 17,
      "outputs": [
        {
          "output_type": "stream",
          "name": "stdout",
          "text": [
            "Tokens: ['(', 'NUMBER', '+', 'NUMBER', '*', 'NUMBER']\n",
            "Syntax Error: Mismatched parentheses\n"
          ]
        }
      ]
    },
    {
      "cell_type": "markdown",
      "source": [
        "# Eksik kapanan parantez"
      ],
      "metadata": {
        "id": "BZroSm8XN3sN"
      }
    },
    {
      "cell_type": "code",
      "source": [
        "# Test Kodu Hata: 2\n",
        "expression = expression = \"3 + * 2\"\n",
        "\n",
        "tokens = tokenize(expression)\n",
        "print(\"Tokens:\", tokens)\n",
        "\n",
        "try:\n",
        "    postfix = shunting_yard(tokens)\n",
        "    print(\"Postfix Notation:\", postfix)\n",
        "\n",
        "    # Syntax Tree oluşturma\n",
        "    syntax_tree = build_syntax_tree(postfix)\n",
        "    print(\"\\nSyntax Tree:\")\n",
        "    print_syntax_tree(syntax_tree)\n",
        "\n",
        "    # AST oluşturma\n",
        "    ast = build_ast(postfix)\n",
        "    print(\"\\nAbstract Syntax Tree (AST):\")\n",
        "    print_syntax_tree(ast)\n",
        "except ValueError as e:\n",
        "    print(e)"
      ],
      "metadata": {
        "colab": {
          "base_uri": "https://localhost:8080/"
        },
        "id": "PBVeAyRcUUXC",
        "outputId": "79163a73-8296-40e9-a8d8-e90d738e79a1"
      },
      "execution_count": 18,
      "outputs": [
        {
          "output_type": "stream",
          "name": "stdout",
          "text": [
            "Tokens: ['NUMBER', '+', '*', 'NUMBER']\n",
            "Syntax Error: Missing operand for operator '*'\n"
          ]
        }
      ]
    },
    {
      "cell_type": "markdown",
      "source": [
        "# Eksik operand"
      ],
      "metadata": {
        "id": "cCTw2aTBUUhh"
      }
    },
    {
      "cell_type": "code",
      "source": [
        "# Test Kodu Hata 3:\n",
        "expression = \"3 + 5 @ 2\"\n",
        "\n",
        "\n",
        "\n",
        "tokens = tokenize(expression)\n",
        "print(\"Tokens:\", tokens)\n",
        "\n",
        "try:\n",
        "    postfix = shunting_yard(tokens)\n",
        "    print(\"Postfix Notation:\", postfix)\n",
        "\n",
        "    # Syntax Tree oluşturma\n",
        "    syntax_tree = build_syntax_tree(postfix)\n",
        "    print(\"\\nSyntax Tree:\")\n",
        "    print_syntax_tree(syntax_tree)\n",
        "\n",
        "    # AST oluşturma\n",
        "    ast = build_ast(postfix)\n",
        "    print(\"\\nAbstract Syntax Tree (AST):\")\n",
        "    print_syntax_tree(ast)\n",
        "except ValueError as e:\n",
        "    print(e)"
      ],
      "metadata": {
        "colab": {
          "base_uri": "https://localhost:8080/",
          "height": 332
        },
        "id": "DkjM36ozUUpK",
        "outputId": "243e4a76-658b-4390-cb3d-36e3f2f7d9fc"
      },
      "execution_count": 25,
      "outputs": [
        {
          "output_type": "error",
          "ename": "ValueError",
          "evalue": "Syntax Error: Invalid token '@'",
          "traceback": [
            "\u001b[0;31m---------------------------------------------------------------------------\u001b[0m",
            "\u001b[0;31mValueError\u001b[0m                                Traceback (most recent call last)",
            "\u001b[0;32m<ipython-input-25-833b6a06afb4>\u001b[0m in \u001b[0;36m<cell line: 6>\u001b[0;34m()\u001b[0m\n\u001b[1;32m      4\u001b[0m \u001b[0;34m\u001b[0m\u001b[0m\n\u001b[1;32m      5\u001b[0m \u001b[0;34m\u001b[0m\u001b[0m\n\u001b[0;32m----> 6\u001b[0;31m \u001b[0mtokens\u001b[0m \u001b[0;34m=\u001b[0m \u001b[0mtokenize\u001b[0m\u001b[0;34m(\u001b[0m\u001b[0mexpression\u001b[0m\u001b[0;34m)\u001b[0m\u001b[0;34m\u001b[0m\u001b[0;34m\u001b[0m\u001b[0m\n\u001b[0m\u001b[1;32m      7\u001b[0m \u001b[0mprint\u001b[0m\u001b[0;34m(\u001b[0m\u001b[0;34m\"Tokens:\"\u001b[0m\u001b[0;34m,\u001b[0m \u001b[0mtokens\u001b[0m\u001b[0;34m)\u001b[0m\u001b[0;34m\u001b[0m\u001b[0;34m\u001b[0m\u001b[0m\n\u001b[1;32m      8\u001b[0m \u001b[0;34m\u001b[0m\u001b[0m\n",
            "\u001b[0;32m<ipython-input-21-760fb21c7b07>\u001b[0m in \u001b[0;36mtokenize\u001b[0;34m(expression)\u001b[0m\n\u001b[1;32m      9\u001b[0m     \u001b[0minvalid_tokens\u001b[0m \u001b[0;34m=\u001b[0m \u001b[0mre\u001b[0m\u001b[0;34m.\u001b[0m\u001b[0mfindall\u001b[0m\u001b[0;34m(\u001b[0m\u001b[0minvalid_pattern\u001b[0m\u001b[0;34m,\u001b[0m \u001b[0mexpression\u001b[0m\u001b[0;34m)\u001b[0m\u001b[0;34m\u001b[0m\u001b[0;34m\u001b[0m\u001b[0m\n\u001b[1;32m     10\u001b[0m     \u001b[0;32mif\u001b[0m \u001b[0minvalid_tokens\u001b[0m\u001b[0;34m:\u001b[0m\u001b[0;34m\u001b[0m\u001b[0;34m\u001b[0m\u001b[0m\n\u001b[0;32m---> 11\u001b[0;31m         \u001b[0;32mraise\u001b[0m \u001b[0mValueError\u001b[0m\u001b[0;34m(\u001b[0m\u001b[0;34mf\"Syntax Error: Invalid token '{invalid_tokens[0]}'\"\u001b[0m\u001b[0;34m)\u001b[0m\u001b[0;34m\u001b[0m\u001b[0;34m\u001b[0m\u001b[0m\n\u001b[0m\u001b[1;32m     12\u001b[0m \u001b[0;34m\u001b[0m\u001b[0m\n\u001b[1;32m     13\u001b[0m     \u001b[0;31m# Geçerli tokenları yakala\u001b[0m\u001b[0;34m\u001b[0m\u001b[0;34m\u001b[0m\u001b[0m\n",
            "\u001b[0;31mValueError\u001b[0m: Syntax Error: Invalid token '@'"
          ]
        }
      ]
    },
    {
      "cell_type": "markdown",
      "source": [
        "#Tanımsız bir karakter kullanılmış"
      ],
      "metadata": {
        "id": "L3Vv3RJwWxW_"
      }
    },
    {
      "cell_type": "code",
      "source": [
        "# Test Kodu: Advanced Expression\n",
        "expression = \"sin(3) + 5 * 2 ^ 3!\"\n",
        "tokens = tokenize(expression)\n",
        "print(\"Tokens:\", tokens)\n",
        "\n",
        "try:\n",
        "    postfix = shunting_yard(tokens)\n",
        "    print(\"Postfix Notation:\", postfix)\n",
        "\n",
        "    # Syntax Tree oluşturma\n",
        "    syntax_tree = build_syntax_tree(postfix)\n",
        "    print(\"\\nSyntax Tree:\")\n",
        "    print_syntax_tree(syntax_tree)\n",
        "\n",
        "    # AST oluşturma\n",
        "    ast = build_ast(postfix)\n",
        "    print(\"\\nAbstract Syntax Tree (AST):\")\n",
        "    print_syntax_tree(ast)\n",
        "except ValueError as e:\n",
        "    print(\"Syntax Error:\", e)\n"
      ],
      "metadata": {
        "colab": {
          "base_uri": "https://localhost:8080/"
        },
        "id": "Dwrto5nVW4h3",
        "outputId": "bd395ab2-9a84-4cb7-befa-8764bbc2a0ea"
      },
      "execution_count": 24,
      "outputs": [
        {
          "output_type": "stream",
          "name": "stdout",
          "text": [
            "Tokens: ['sin', '(', 'NUMBER', ')', '+', 'NUMBER', '*', 'NUMBER', '^', 'NUMBER', '!']\n",
            "Postfix Notation: ['NUMBER', 'sin', 'NUMBER', 'NUMBER', 'NUMBER', '!', '^', '*', '+']\n",
            "\n",
            "Syntax Tree:\n",
            "            -> !\n",
            "                -> NUMBER\n",
            "        -> ^\n",
            "            -> NUMBER\n",
            "    -> *\n",
            "        -> NUMBER\n",
            "-> +\n",
            "    -> sin\n",
            "        -> NUMBER\n",
            "\n",
            "Abstract Syntax Tree (AST):\n",
            "            -> !\n",
            "                -> NUMBER\n",
            "        -> ^\n",
            "            -> NUMBER\n",
            "    -> *\n",
            "        -> NUMBER\n",
            "-> +\n",
            "    -> sin\n",
            "        -> NUMBER\n"
          ]
        }
      ]
    }
  ]
}